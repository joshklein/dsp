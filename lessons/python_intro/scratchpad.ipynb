{
 "cells": [
  {
   "cell_type": "code",
   "execution_count": 13,
   "metadata": {},
   "outputs": [
    {
     "data": {
      "text/plain": [
       "[2, 4, 6, 8, 10, 12]"
      ]
     },
     "execution_count": 13,
     "metadata": {},
     "output_type": "execute_result"
    }
   ],
   "source": [
    "f = lambda my_list: list(filter(lambda x: x % 2 == 0, my_list))\n",
    "\n",
    "f([1,2,3,4,6,7,8,10,11,12])"
   ]
  },
  {
   "cell_type": "code",
   "execution_count": 26,
   "metadata": {},
   "outputs": [
    {
     "name": "stdout",
     "output_type": "stream",
     "text": [
      "['This tea is ', ' hot!']\n",
      "[' hot!']\n"
     ]
    },
    {
     "data": {
      "text/plain": [
       "'This tea is not hot!'"
      ]
     },
     "execution_count": 26,
     "metadata": {},
     "output_type": "execute_result"
    }
   ],
   "source": [
    "def not_bad(s):\n",
    "    not_split = s.split('not', 1)\n",
    "    if len(not_split) == 2:\n",
    "        bad_split = not_split[1].split('bad', 1)\n",
    "        if len(bad_split) == 2:\n",
    "            return not_split[0] + 'good' + bad_split[1]\n",
    "        \n",
    "    return s\n",
    "\n",
    "not_bad('This tea is not hot!')"
   ]
  },
  {
   "cell_type": "code",
   "execution_count": 31,
   "metadata": {},
   "outputs": [
    {
     "data": {
      "text/plain": [
       "'abxcdy'"
      ]
     },
     "execution_count": 31,
     "metadata": {},
     "output_type": "execute_result"
    }
   ],
   "source": [
    "import math\n",
    "def front_back(s1, s2):\n",
    "    s1_cut = math.ceil(len(s1)/2)\n",
    "    s1_f = s1[:s1_cut]\n",
    "    s1_b = s1[s1_cut:]\n",
    "    s2_cut = math.ceil(len(s2)/2)\n",
    "    s2_f = s2[:s2_cut]\n",
    "    s2_b = s2[s2_cut:]\n",
    "    return s1_f + s2_f + s1_b + s2_b\n",
    "\n",
    "front_back('abcd','xy')"
   ]
  },
  {
   "cell_type": "code",
   "execution_count": 48,
   "metadata": {},
   "outputs": [
    {
     "data": {
      "text/plain": [
       "[['mix'], ['xanadu', 'xyz'], ['aardvark', 'apple']]"
      ]
     },
     "execution_count": 48,
     "metadata": {},
     "output_type": "execute_result"
    }
   ],
   "source": [
    "def front_x(words):\n",
    "    result = []\n",
    "    groups = {}\n",
    "    for word in words:\n",
    "        c = word[:1]\n",
    "        group = groups.get(c, [])        \n",
    "        group.append(word)\n",
    "        groups[c] = group\n",
    "    for _, group in groups.items():\n",
    "        result.append(sorted(group))\n",
    "    return result\n",
    "\n",
    "front_x([\"mix\", \"xyz\", \"apple\", \"xanadu\", \"aardvark\"])"
   ]
  },
  {
   "cell_type": "code",
   "execution_count": 52,
   "metadata": {},
   "outputs": [
    {
     "data": {
      "text/plain": [
       "['xanadu', 'xyz', 'aardvark', 'apple', 'mix']"
      ]
     },
     "execution_count": 52,
     "metadata": {},
     "output_type": "execute_result"
    }
   ],
   "source": [
    "def front_x(words):\n",
    "    x_words = []\n",
    "    other_words = []\n",
    "    for word in sorted(words):\n",
    "        if word[:1] == 'x':\n",
    "            x_words.append(word)\n",
    "        else:\n",
    "            other_words.append(word)\n",
    "    return x_words + other_words\n",
    "\n",
    "front_x([\"mix\", \"xyz\", \"apple\", \"xanadu\", \"aardvark\"])"
   ]
  },
  {
   "cell_type": "code",
   "execution_count": 63,
   "metadata": {},
   "outputs": [
    {
     "name": "stdout",
     "output_type": "stream",
     "text": [
      "[(2, 2), (1, 3), (3, 4, 5), (1, 7)]\n"
     ]
    }
   ],
   "source": [
    "def sort_last(tuples):\n",
    "    return sorted(tuples, key=lambda t: t[-1])\n",
    "\n",
    "print(sort_last([(1,7),(1,3),(3,4,5),(2,2)]))"
   ]
  },
  {
   "cell_type": "code",
   "execution_count": 69,
   "metadata": {},
   "outputs": [
    {
     "data": {
      "text/plain": [
       "[1, 2, 3]"
      ]
     },
     "execution_count": 69,
     "metadata": {},
     "output_type": "execute_result"
    }
   ],
   "source": [
    "def remove_adjacent(nums):\n",
    "    new_list = []\n",
    "    new_list.append(nums[0])\n",
    "    for n in nums:\n",
    "        if n != new_list[-1]:\n",
    "            new_list.append(n)\n",
    "    return new_list\n",
    "\n",
    "remove_adjacent([1,2,2,3])"
   ]
  },
  {
   "cell_type": "code",
   "execution_count": 112,
   "metadata": {},
   "outputs": [
    {
     "data": {
      "text/plain": [
       "[-1, 1, 1.5, 2, 2, 5]"
      ]
     },
     "execution_count": 112,
     "metadata": {},
     "output_type": "execute_result"
    }
   ],
   "source": [
    "def linear_merge(list1, list2):\n",
    "    result = []\n",
    "    i = j = 0\n",
    "    for _ in range(len(list1)+len(list2)):\n",
    "        # return early if a list runs out\n",
    "        if i == len(list1):\n",
    "            return result + list2[j:]\n",
    "        if j == len(list2):\n",
    "            return result + list1[i:]\n",
    "        \n",
    "        # append the lower value\n",
    "        if list1[i] <= list2[j]:\n",
    "            result.append(list1[i])\n",
    "            i += 1\n",
    "        else:\n",
    "            result.append(list2[j])\n",
    "            j += 1\n",
    "    return result\n",
    "\n",
    "linear_merge([1,2,2],[-1,1.5,5])"
   ]
  },
  {
   "cell_type": "code",
   "execution_count": 8,
   "metadata": {},
   "outputs": [],
   "source": [
    "#!/bin/python3\n",
    "\n",
    "import sys\n",
    "import os\n",
    "import csv\n",
    "\n",
    "text = '''Team,Games,Wins,Losses,Draws,Goals,Goals Allowed,Points\n",
    "Arsenal,38,26,9,3,79,36,87\n",
    "Liverpool,38,24,8,6,67,30,80\n",
    "Manchester United,38,24,5,9,87,45,77\n",
    "Newcastle,38,21,8,9,74,52,71\n",
    "Leeds,38,18,12,8,53,37,66\n",
    "Chelsea,38,17,13,8,66,38,64\n",
    "West_Ham,38,15,8,15,48,57,53\n",
    "Aston_Villa,38,12,14,12,46,47,50\n",
    "Tottenham,38,14,8,16,49,53,50\n",
    "Blackburn,38,12,10,16,55,51,46\n",
    "Southampton,38,12,9,17,46,54,45\n",
    "Middlesbrough,38,12,9,17,35,47,45\n",
    "Fulham,38,10,14,14,36,44,44\n",
    "Charlton,38,10,14,14,38,49,44\n",
    "Everton,38,11,10,17,45,57,43\n",
    "Bolton,38,9,13,16,44,62,40\n",
    "Sunderland,38,10,10,18,29,51,40\n",
    "Ipswich,38,9,9,20,41,64,36\n",
    "Derby,38,8,6,24,33,63,30\n",
    "Leicester,38,5,13,20,30,64,28'''\n",
    "\n",
    "with open('football.csv', 'w') as f:\n",
    "    f.write(text)\n",
    "\n",
    "\n",
    "# The football.csv file contains the results from the English Premier League.\n",
    "# The columns labeled ‘Goals’ and ‘Goals Allowed’ contain the total number of\n",
    "# goals scored for and against each team in that season (so Arsenal scored 79 goals\n",
    "# against opponents, and had 36 goals scored against them). Write a program to read the file,\n",
    "# then print the name of the team with the smallest difference in ‘for’ and ‘against’ goals.\n",
    "\n",
    "# Don't use pandas.\n",
    "\n",
    "# Following functions will be called like this:\n",
    "#   footballTable = read_data('football.csv')\n",
    "#   minRow = get_index_with_min_abs_score_difference(footballTable)\n",
    "#   print str(get_team(minRow, footballTable))\n",
    "\n",
    "\n",
    "\n",
    "\n",
    "def read_data(filename):\n",
    "    \"\"\"Returns a list of lists representing the rows of the csv file data.\n",
    "\n",
    "    Arguments: filename is the name of a csv file (as a string)\n",
    "    Returns: list of lists of strings, where every line is split into a list of values. \n",
    "        ex: ['Arsenal', 38, 26, 9, 3, 79, 36, 87]\n",
    "    \"\"\"\n",
    "    result = []\n",
    "    with open('football.csv', 'r') as f:\n",
    "        reader = csv.reader(f)\n",
    "        for row in reader:\n",
    "            result.append(row)\n",
    "    return result[1:] # dropping header row\n",
    "            \n",
    "\n",
    "\n",
    "def get_index_with_min_abs_score_difference(goals):\n",
    "    \"\"\"Returns the index of the team with the smallest difference\n",
    "    between 'for' and 'against' goals, in terms of absolute value.\n",
    "\n",
    "    Arguments: parsed_data is a list of lists of cleaned strings\n",
    "    Returns: integer row index\n",
    "    \"\"\"\n",
    "    # 5 - 6\n",
    "    lowest = 1000 # initial value known to be well above observed max\n",
    "    result_index = -1 # initial value known to be impossible\n",
    "    for i, row in enumerate(goals):\n",
    "        diff = abs(int(row[5]) - int(row[6]))\n",
    "        if diff < lowest:\n",
    "            lowest = diff\n",
    "            result_index = i\n",
    "    \n",
    "    # in practice, would probably check initial values were replaced\n",
    "    # or else throw an error\n",
    "    return result_index\n",
    "    \n",
    "    \n",
    "    \n",
    "    \n",
    "def get_team(index_value, parsed_data):\n",
    "    \"\"\"Returns the team name at a given index.\n",
    "    \n",
    "    Arguments: index_value is an integer row index\n",
    "               parsed_data is the output of `read_data` above\n",
    "               \n",
    "    Returns: the team name\n",
    "    \"\"\"\n",
    "    return parsed_data[index_value][0]\n"
   ]
  },
  {
   "cell_type": "code",
   "execution_count": 11,
   "metadata": {},
   "outputs": [
    {
     "name": "stdout",
     "output_type": "stream",
     "text": [
      "{'first': 123, 'second': 1409, 'third': 123123}\n",
      "{'first': 123,\n",
      " 'second': 1409,\n",
      " 'third': 123123}\n"
     ]
    }
   ],
   "source": [
    "a = {'first': 123, 'second': 1409, 'third': 123123}\n",
    "print(a)\n",
    "import pprint as pp\n",
    "pp.pprint(a, width=2)"
   ]
  }
 ],
 "metadata": {
  "kernelspec": {
   "display_name": "Python 3",
   "language": "python",
   "name": "python3"
  },
  "language_info": {
   "codemirror_mode": {
    "name": "ipython",
    "version": 3
   },
   "file_extension": ".py",
   "mimetype": "text/x-python",
   "name": "python",
   "nbconvert_exporter": "python",
   "pygments_lexer": "ipython3",
   "version": "3.7.1"
  }
 },
 "nbformat": 4,
 "nbformat_minor": 2
}
